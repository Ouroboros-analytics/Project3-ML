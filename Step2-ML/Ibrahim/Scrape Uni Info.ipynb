{
 "cells": [
  {
   "cell_type": "code",
   "execution_count": 23,
   "metadata": {},
   "outputs": [],
   "source": [
    "# Imports\n",
    "import pandas as pd\n",
    "import numpy as np\n",
    "from splinter import Browser\n",
    "from bs4 import BeautifulSoup\n",
    "import requests"
   ]
  },
  {
   "cell_type": "code",
   "execution_count": 24,
   "metadata": {},
   "outputs": [],
   "source": [
    "wiki_url = \"https://www.wikipedia.org/wiki/\"\n",
    "goog_url = \"https://www.google.com/\""
   ]
  },
  {
   "cell_type": "code",
   "execution_count": null,
   "metadata": {},
   "outputs": [],
   "source": [
    "!which chromedriver\n",
    "executable_path = {'executable_path': '/usr/local/bin/chromedriver'}\n",
    "browser = Browser('chrome', **executable_path, headless=False)\n",
    "# browser.visit(wiki_url)"
   ]
  },
  {
   "cell_type": "code",
   "execution_count": 25,
   "metadata": {},
   "outputs": [
    {
     "data": {
      "text/html": [
       "<div>\n",
       "<style scoped>\n",
       "    .dataframe tbody tr th:only-of-type {\n",
       "        vertical-align: middle;\n",
       "    }\n",
       "\n",
       "    .dataframe tbody tr th {\n",
       "        vertical-align: top;\n",
       "    }\n",
       "\n",
       "    .dataframe thead th {\n",
       "        text-align: right;\n",
       "    }\n",
       "</style>\n",
       "<table border=\"1\" class=\"dataframe\">\n",
       "  <thead>\n",
       "    <tr style=\"text-align: right;\">\n",
       "      <th></th>\n",
       "      <th>UNITID</th>\n",
       "      <th>INSTNM</th>\n",
       "    </tr>\n",
       "  </thead>\n",
       "  <tbody>\n",
       "    <tr>\n",
       "      <th>0</th>\n",
       "      <td>100654</td>\n",
       "      <td>Alabama A &amp; M University</td>\n",
       "    </tr>\n",
       "    <tr>\n",
       "      <th>1</th>\n",
       "      <td>100663</td>\n",
       "      <td>University of Alabama at Birmingham</td>\n",
       "    </tr>\n",
       "  </tbody>\n",
       "</table>\n",
       "</div>"
      ],
      "text/plain": [
       "   UNITID                               INSTNM\n",
       "0  100654             Alabama A & M University\n",
       "1  100663  University of Alabama at Birmingham"
      ]
     },
     "execution_count": 25,
     "metadata": {},
     "output_type": "execute_result"
    }
   ],
   "source": [
    "# import data\n",
    "uni_data = pd.read_csv(\"API_SQL_UNITID-NAME.csv\")\n",
    "uni_data.head(2)"
   ]
  },
  {
   "cell_type": "code",
   "execution_count": 26,
   "metadata": {},
   "outputs": [],
   "source": [
    "inst = uni_data['INSTNM'][0]\n",
    "inst = inst.replace(\" \", \"_\")\n",
    "inst_url = wiki_url + inst\n",
    "# inst_url\n",
    "wiki_response = requests.get(inst_url)\n",
    "wiki_soup = BeautifulSoup(wiki_response.text, 'html.parser')\n",
    "# inst"
   ]
  },
  {
   "cell_type": "code",
   "execution_count": 27,
   "metadata": {},
   "outputs": [
    {
     "data": {
      "text/plain": [
       "'https://www.wikipedia.org/wiki/Alabama_A_&_M_University'"
      ]
     },
     "execution_count": 27,
     "metadata": {},
     "output_type": "execute_result"
    }
   ],
   "source": [
    "inst_url"
   ]
  },
  {
   "cell_type": "code",
   "execution_count": 7,
   "metadata": {},
   "outputs": [
    {
     "data": {
      "text/plain": [
       "'Alabama Agricultural and Mechanical University (often called Alabama A&M, formerly the State Normal and Industrial School of Huntsville and State Agricultural and Mechanical Institute for Negroes) is a public, historically black, land-grant university located in Normal, a neighborhood of Huntsville, Alabama, United States.[5][6] AAMU is a member-school of the Thurgood Marshall College Fund and has been accredited by the Southern Association of Colleges and Schools. Founded in the 1870s as a normal school, it took its present name in 1969.  Alabama Agricultural and Mechanical University Historic District, also known as Normal Hill College Historic District, has 28 buildings and 4 structures listed in the United States National Register of Historic Places.'"
      ]
     },
     "execution_count": 7,
     "metadata": {},
     "output_type": "execute_result"
    }
   ],
   "source": [
    "# Snippet\n",
    "wiki_soup.find_all('p')[0].text.strip()"
   ]
  },
  {
   "cell_type": "code",
   "execution_count": 29,
   "metadata": {},
   "outputs": [
    {
     "data": {
      "text/plain": [
       "'Public, HBCULand-grant universitySpace-grant'"
      ]
     },
     "execution_count": 29,
     "metadata": {},
     "output_type": "execute_result"
    }
   ],
   "source": [
    "inst_facts = pd.read_html(inst_url)\n",
    "inst_facts = inst_facts[0]\n",
    "inst_facts = inst_facts.set_index(0)\n",
    "# inst_facts\n",
    "\n",
    "# motto = inst_facts.loc['Motto'][1]\n",
    "type_of_uni = inst_facts.loc['Type'][1]\n",
    "# year_est = inst_facts.loc['Established'][1]\n",
    "# students = inst_facts.loc['Students'][1][:-3]\n",
    "# nickname = inst_facts.loc['Nickname'][1]\n",
    "# campus = inst_facts.loc['Campus'][1]\n",
    "type_of_uni"
   ]
  },
  {
   "cell_type": "code",
   "execution_count": 48,
   "metadata": {},
   "outputs": [
    {
     "data": {
      "text/plain": [
       "[<a id=\"top\"></a>,\n",
       " <a class=\"mw-jump-link\" href=\"#mw-head\">Jump to navigation</a>,\n",
       " <a class=\"mw-jump-link\" href=\"#p-search\">Jump to search</a>,\n",
       " <a href=\"/wiki/Special:SiteMatrix\" title=\"Special:SiteMatrix\">sister projects</a>,\n",
       " <a class=\"image\" href=\"/wiki/File:Wiktionary-logo-v2.svg\"><img alt=\"Wiktionary-logo-v2.svg\" data-file-height=\"391\" data-file-width=\"391\" decoding=\"async\" height=\"30\" src=\"//upload.wikimedia.org/wikipedia/en/thumb/0/06/Wiktionary-logo-v2.svg/30px-Wiktionary-logo-v2.svg.png\" srcset=\"//upload.wikimedia.org/wikipedia/en/thumb/0/06/Wiktionary-logo-v2.svg/45px-Wiktionary-logo-v2.svg.png 1.5x, //upload.wikimedia.org/wikipedia/en/thumb/0/06/Wiktionary-logo-v2.svg/60px-Wiktionary-logo-v2.svg.png 2x\" width=\"30\"/></a>,\n",
       " <a class=\"extiw\" href=\"https://en.wiktionary.org/wiki/Special:Search/American_Indian_College_Inc\" title=\"wiktionary:Special:Search/American Indian College Inc\">Wiktionary</a>,\n",
       " <a class=\"image\" href=\"/wiki/File:Wikibooks-logo.svg\"><img alt=\"Wikibooks-logo.svg\" data-file-height=\"300\" data-file-width=\"300\" decoding=\"async\" height=\"30\" src=\"//upload.wikimedia.org/wikipedia/commons/thumb/f/fa/Wikibooks-logo.svg/30px-Wikibooks-logo.svg.png\" srcset=\"//upload.wikimedia.org/wikipedia/commons/thumb/f/fa/Wikibooks-logo.svg/45px-Wikibooks-logo.svg.png 1.5x, //upload.wikimedia.org/wikipedia/commons/thumb/f/fa/Wikibooks-logo.svg/60px-Wikibooks-logo.svg.png 2x\" width=\"30\"/></a>,\n",
       " <a class=\"extiw\" href=\"https://en.wikibooks.org/wiki/Special:Search/American_Indian_College_Inc\" title=\"wikibooks:Special:Search/American Indian College Inc\">Wikibooks</a>,\n",
       " <a class=\"image\" href=\"/wiki/File:Wikiquote-logo.svg\"><img alt=\"Wikiquote-logo.svg\" data-file-height=\"355\" data-file-width=\"300\" decoding=\"async\" height=\"30\" src=\"//upload.wikimedia.org/wikipedia/commons/thumb/f/fa/Wikiquote-logo.svg/25px-Wikiquote-logo.svg.png\" srcset=\"//upload.wikimedia.org/wikipedia/commons/thumb/f/fa/Wikiquote-logo.svg/38px-Wikiquote-logo.svg.png 1.5x, //upload.wikimedia.org/wikipedia/commons/thumb/f/fa/Wikiquote-logo.svg/51px-Wikiquote-logo.svg.png 2x\" width=\"25\"/></a>,\n",
       " <a class=\"extiw\" href=\"https://en.wikiquote.org/wiki/Special:Search/American_Indian_College_Inc\" title=\"wikiquote:Special:Search/American Indian College Inc\">Wikiquote</a>,\n",
       " <a class=\"image\" href=\"/wiki/File:Wikisource-logo.svg\"><img alt=\"Wikisource-logo.svg\" data-file-height=\"430\" data-file-width=\"410\" decoding=\"async\" height=\"30\" src=\"//upload.wikimedia.org/wikipedia/commons/thumb/4/4c/Wikisource-logo.svg/29px-Wikisource-logo.svg.png\" srcset=\"//upload.wikimedia.org/wikipedia/commons/thumb/4/4c/Wikisource-logo.svg/43px-Wikisource-logo.svg.png 1.5x, //upload.wikimedia.org/wikipedia/commons/thumb/4/4c/Wikisource-logo.svg/57px-Wikisource-logo.svg.png 2x\" width=\"29\"/></a>,\n",
       " <a class=\"extiw\" href=\"https://en.wikisource.org/wiki/Special:Search/American_Indian_College_Inc\" title=\"wikisource:Special:Search/American Indian College Inc\">Wikisource</a>,\n",
       " <a class=\"image\" href=\"/wiki/File:Wikiversity-logo.svg\"><img alt=\"Wikiversity-logo.svg\" data-file-height=\"800\" data-file-width=\"1000\" decoding=\"async\" height=\"24\" src=\"//upload.wikimedia.org/wikipedia/commons/thumb/9/91/Wikiversity-logo.svg/30px-Wikiversity-logo.svg.png\" srcset=\"//upload.wikimedia.org/wikipedia/commons/thumb/9/91/Wikiversity-logo.svg/45px-Wikiversity-logo.svg.png 1.5x, //upload.wikimedia.org/wikipedia/commons/thumb/9/91/Wikiversity-logo.svg/60px-Wikiversity-logo.svg.png 2x\" width=\"30\"/></a>,\n",
       " <a class=\"extiw\" href=\"https://en.wikiversity.org/wiki/Special:Search/American_Indian_College_Inc\" title=\"wikiversity:Special:Search/American Indian College Inc\">Wikiversity</a>,\n",
       " <a class=\"image\" href=\"/wiki/File:Commons-logo.svg\"><img alt=\"Commons-logo.svg\" data-file-height=\"1376\" data-file-width=\"1024\" decoding=\"async\" height=\"30\" src=\"//upload.wikimedia.org/wikipedia/en/thumb/4/4a/Commons-logo.svg/22px-Commons-logo.svg.png\" srcset=\"//upload.wikimedia.org/wikipedia/en/thumb/4/4a/Commons-logo.svg/33px-Commons-logo.svg.png 1.5x, //upload.wikimedia.org/wikipedia/en/thumb/4/4a/Commons-logo.svg/45px-Commons-logo.svg.png 2x\" width=\"22\"/></a>,\n",
       " <a class=\"extiw\" href=\"https://commons.wikimedia.org/wiki/Special:Search/American_Indian_College_Inc\" title=\"commons:Special:Search/American Indian College Inc\">Commons</a>,\n",
       " <a class=\"image\" href=\"/wiki/File:Wikivoyage-Logo-v3-icon.svg\"><img alt=\"Wikivoyage-Logo-v3-icon.svg\" data-file-height=\"193\" data-file-width=\"193\" decoding=\"async\" height=\"30\" src=\"//upload.wikimedia.org/wikipedia/commons/thumb/d/dd/Wikivoyage-Logo-v3-icon.svg/30px-Wikivoyage-Logo-v3-icon.svg.png\" srcset=\"//upload.wikimedia.org/wikipedia/commons/thumb/d/dd/Wikivoyage-Logo-v3-icon.svg/45px-Wikivoyage-Logo-v3-icon.svg.png 1.5x, //upload.wikimedia.org/wikipedia/commons/thumb/d/dd/Wikivoyage-Logo-v3-icon.svg/60px-Wikivoyage-Logo-v3-icon.svg.png 2x\" width=\"30\"/></a>,\n",
       " <a class=\"extiw\" href=\"https://en.wikivoyage.org/wiki/Special:Search/American_Indian_College_Inc\" title=\"wikivoyage:Special:Search/American Indian College Inc\">Wikivoyage</a>,\n",
       " <a class=\"image\" href=\"/wiki/File:Wikinews-logo.svg\"><img alt=\"Wikinews-logo.svg\" data-file-height=\"415\" data-file-width=\"759\" decoding=\"async\" height=\"16\" src=\"//upload.wikimedia.org/wikipedia/commons/thumb/2/24/Wikinews-logo.svg/30px-Wikinews-logo.svg.png\" srcset=\"//upload.wikimedia.org/wikipedia/commons/thumb/2/24/Wikinews-logo.svg/45px-Wikinews-logo.svg.png 1.5x, //upload.wikimedia.org/wikipedia/commons/thumb/2/24/Wikinews-logo.svg/60px-Wikinews-logo.svg.png 2x\" width=\"30\"/></a>,\n",
       " <a class=\"extiw\" href=\"https://en.wikinews.org/wiki/Special:Search/American_Indian_College_Inc\" title=\"wikinews:Special:Search/American Indian College Inc\">Wikinews</a>,\n",
       " <a class=\"image\" href=\"/wiki/File:Wikidata-logo.svg\"><img alt=\"Wikidata-logo.svg\" data-file-height=\"590\" data-file-width=\"1050\" decoding=\"async\" height=\"17\" src=\"//upload.wikimedia.org/wikipedia/commons/thumb/f/ff/Wikidata-logo.svg/30px-Wikidata-logo.svg.png\" srcset=\"//upload.wikimedia.org/wikipedia/commons/thumb/f/ff/Wikidata-logo.svg/45px-Wikidata-logo.svg.png 1.5x, //upload.wikimedia.org/wikipedia/commons/thumb/f/ff/Wikidata-logo.svg/60px-Wikidata-logo.svg.png 2x\" width=\"30\"/></a>,\n",
       " <a class=\"extiw\" href=\"https://www.wikidata.org/wiki/Special:Search/American_Indian_College_Inc\" title=\"wikidata:Special:Search/American Indian College Inc\">Wikidata</a>,\n",
       " <a class=\"external text\" href=\"//en.wikipedia.org/w/index.php?search=American+Indian+College+Inc&amp;title=Special%3ASearch&amp;fulltext=1\">search for <i>American Indian College Inc</i> in Wikipedia</a>,\n",
       " <a class=\"external text\" href=\"//en.wikipedia.org/w/index.php?title=Special:UserLogin&amp;returnto=American+Indian+College+Inc\">Log in or create an account</a>,\n",
       " <a href=\"/wiki/Wikipedia:Article_wizard\" title=\"Wikipedia:Article wizard\">Article Wizard</a>,\n",
       " <a href=\"/wiki/Wikipedia:Requested_articles\" title=\"Wikipedia:Requested articles\">add a request for it</a>,\n",
       " <a class=\"external text\" href=\"//en.wikipedia.org/w/index.php?search=American+Indian+College+Inc&amp;title=Special%3ASearch&amp;fulltext=1&amp;ns0=1\">Search for \"<i>American Indian College Inc</i>\"</a>,\n",
       " <a href=\"/wiki/Special:WhatLinksHere/American_Indian_College_Inc\" title=\"Special:WhatLinksHere/American Indian College Inc\">Look for pages within Wikipedia that link to this title</a>,\n",
       " <a class=\"external text\" href=\"//en.wikipedia.org/w/index.php?title=American_Indian_College_Inc&amp;action=purge\">try the purge function</a>,\n",
       " <a href=\"/wiki/Case_sensitivity\" title=\"Case sensitivity\">case sensitive</a>,\n",
       " <a class=\"external text\" href=\"//en.wikipedia.org/w/index.php?search=American+Indian+College+Inc&amp;title=Special%3ASearch&amp;fulltext=1\">check alternative capitalizations</a>,\n",
       " <a href=\"/wiki/Wikipedia:Redirect\" title=\"Wikipedia:Redirect\">redirect</a>,\n",
       " <a class=\"external text\" href=\"//en.wikipedia.org/w/index.php?title=Special:Log/delete&amp;page=American_Indian_College_Inc\">check the <b>deletion log</b></a>,\n",
       " <a href=\"/wiki/Wikipedia:Why_was_the_page_I_created_deleted%3F\" title=\"Wikipedia:Why was the page I created deleted?\">Why was the page I created deleted?</a>,\n",
       " <a dir=\"ltr\" href=\"https://en.wikipedia.org/wiki/American_Indian_College_Inc\">https://en.wikipedia.org/wiki/American_Indian_College_Inc</a>,\n",
       " <a accesskey=\"n\" href=\"/wiki/Special:MyTalk\" title=\"Discussion about edits from this IP address [n]\">Talk</a>,\n",
       " <a accesskey=\"y\" href=\"/wiki/Special:MyContributions\" title=\"A list of edits made from this IP address [y]\">Contributions</a>,\n",
       " <a href=\"/w/index.php?title=Special:CreateAccount&amp;returnto=American+Indian+College+Inc\" title=\"You are encouraged to create an account and log in; however, it is not mandatory\">Create account</a>,\n",
       " <a accesskey=\"o\" href=\"/w/index.php?title=Special:UserLogin&amp;returnto=American+Indian+College+Inc\" title=\"You're encouraged to log in; however, it's not mandatory. [o]\">Log in</a>,\n",
       " <a accesskey=\"c\" href=\"/w/index.php?title=American_Indian_College_Inc&amp;action=edit&amp;redlink=1\" title=\"View the content page (page does not exist) [c]\">Article</a>,\n",
       " <a accesskey=\"t\" href=\"/w/index.php?title=Talk:American_Indian_College_Inc&amp;action=edit&amp;redlink=1\" rel=\"discussion\" title=\"Discussion about the content page (page does not exist) [t]\">Talk</a>,\n",
       " <a class=\"mw-wiki-logo\" href=\"/wiki/Main_Page\" title=\"Visit the main page\"></a>,\n",
       " <a accesskey=\"z\" href=\"/wiki/Main_Page\" title=\"Visit the main page [z]\">Main page</a>,\n",
       " <a href=\"/wiki/Portal:Contents\" title=\"Guides to browsing Wikipedia\">Contents</a>,\n",
       " <a href=\"/wiki/Portal:Featured_content\" title=\"Featured content – the best of Wikipedia\">Featured content</a>,\n",
       " <a href=\"/wiki/Portal:Current_events\" title=\"Find background information on current events\">Current events</a>,\n",
       " <a accesskey=\"x\" href=\"/wiki/Special:Random\" title=\"Load a random article [x]\">Random article</a>,\n",
       " <a href=\"https://donate.wikimedia.org/wiki/Special:FundraiserRedirector?utm_source=donate&amp;utm_medium=sidebar&amp;utm_campaign=C13_en.wikipedia.org&amp;uselang=en\" title=\"Support us\">Donate to Wikipedia</a>,\n",
       " <a href=\"//shop.wikimedia.org\" title=\"Visit the Wikipedia store\">Wikipedia store</a>,\n",
       " <a href=\"/wiki/Help:Contents\" title=\"Guidance on how to use and edit Wikipedia\">Help</a>,\n",
       " <a href=\"/wiki/Wikipedia:About\" title=\"Find out about Wikipedia\">About Wikipedia</a>,\n",
       " <a href=\"/wiki/Wikipedia:Community_portal\" title=\"About the project, what you can do, where to find things\">Community portal</a>,\n",
       " <a accesskey=\"r\" href=\"/wiki/Special:RecentChanges\" title=\"A list of recent changes in the wiki [r]\">Recent changes</a>,\n",
       " <a href=\"//en.wikipedia.org/wiki/Wikipedia:Contact_us\" title=\"How to contact Wikipedia\">Contact page</a>,\n",
       " <a accesskey=\"j\" href=\"/wiki/Special:WhatLinksHere/American_Indian_College_Inc\" title=\"List of all English Wikipedia pages containing links to this page [j]\">What links here</a>,\n",
       " <a accesskey=\"u\" href=\"/wiki/Wikipedia:File_Upload_Wizard\" title=\"Upload files [u]\">Upload file</a>,\n",
       " <a accesskey=\"q\" href=\"/wiki/Special:SpecialPages\" title=\"A list of all special pages [q]\">Special pages</a>,\n",
       " <a href=\"/w/index.php?title=American_Indian_College_Inc&amp;action=info\" title=\"More information about this page\">Page information</a>,\n",
       " <a class=\"extiw\" href=\"https://foundation.wikimedia.org/wiki/Privacy_policy\" title=\"wmf:Privacy policy\">Privacy policy</a>,\n",
       " <a href=\"/wiki/Wikipedia:About\" title=\"Wikipedia:About\">About Wikipedia</a>,\n",
       " <a href=\"/wiki/Wikipedia:General_disclaimer\" title=\"Wikipedia:General disclaimer\">Disclaimers</a>,\n",
       " <a href=\"//en.wikipedia.org/wiki/Wikipedia:Contact_us\">Contact Wikipedia</a>,\n",
       " <a href=\"https://www.mediawiki.org/wiki/Special:MyLanguage/How_to_contribute\">Developers</a>,\n",
       " <a href=\"https://foundation.wikimedia.org/wiki/Cookie_statement\">Cookie statement</a>,\n",
       " <a class=\"noprint stopMobileRedirectToggle\" href=\"//en.m.wikipedia.org/w/index.php?title=American_Indian_College_Inc&amp;mobileaction=toggle_view_mobile\">Mobile view</a>,\n",
       " <a href=\"https://wikimediafoundation.org/\"><img alt=\"Wikimedia Foundation\" height=\"31\" src=\"/static/images/wikimedia-button.png\" srcset=\"/static/images/wikimedia-button-1.5x.png 1.5x, /static/images/wikimedia-button-2x.png 2x\" width=\"88\"/></a>,\n",
       " <a href=\"https://www.mediawiki.org/\"><img alt=\"Powered by MediaWiki\" height=\"31\" src=\"/static/images/poweredby_mediawiki_88x31.png\" srcset=\"/static/images/poweredby_mediawiki_132x47.png 1.5x, /static/images/poweredby_mediawiki_176x62.png 2x\" width=\"88\"/></a>]"
      ]
     },
     "execution_count": 48,
     "metadata": {},
     "output_type": "execute_result"
    }
   ],
   "source": [
    "wiki_soup.find_all('a')"
   ]
  },
  {
   "cell_type": "code",
   "execution_count": null,
   "metadata": {},
   "outputs": [],
   "source": []
  },
  {
   "cell_type": "code",
   "execution_count": 41,
   "metadata": {},
   "outputs": [
    {
     "data": {
      "text/plain": [
       "'https:#filehistory'"
      ]
     },
     "execution_count": 41,
     "metadata": {},
     "output_type": "execute_result"
    }
   ],
   "source": [
    "# university image url\n",
    "href = wiki_soup.find_all('a')[4]['href']\n",
    "wiki_addon = 'https://en.wikipedia.org'\n",
    "wiki_img_response = requests.get(wiki_addon + href)\n",
    "wiki_img_soup = BeautifulSoup(wiki_img_response.text, 'html.parser')\n",
    "new_href = wiki_img_soup.find_all('a')[6]['href']\n",
    "http = 'https:'\n",
    "uni_img_url = http + new_href\n",
    "uni_img_url"
   ]
  },
  {
   "cell_type": "code",
   "execution_count": 258,
   "metadata": {},
   "outputs": [
    {
     "data": {
      "text/plain": [
       "<a href=\"/wiki/Latin\" title=\"Latin\">Latin</a>"
      ]
     },
     "execution_count": 258,
     "metadata": {},
     "output_type": "execute_result"
    }
   ],
   "source": [
    "href = wiki_soup.find_all('a')[4]\n",
    "href"
   ]
  },
  {
   "cell_type": "code",
   "execution_count": 11,
   "metadata": {},
   "outputs": [],
   "source": [
    "inst_list = list(uni_data['INSTNM'])\n"
   ]
  },
  {
   "cell_type": "code",
   "execution_count": null,
   "metadata": {},
   "outputs": [],
   "source": [
    "\n",
    "snippet_list = []\n",
    "motto_list = []\n",
    "type_list = []\n",
    "year_est_list = []\n",
    "students_list = []\n",
    "nickname_list = []\n",
    "campus_list = []\n",
    "\n",
    "for sch in inst_list:\n",
    "    try:\n",
    "    #     instname\n",
    "        inst = sch\n",
    "        inst = inst.replace(\" \", \"_\")\n",
    "        inst_url = wiki_url + inst\n",
    "        wiki_response = requests.get(inst_url)\n",
    "        wiki_soup = BeautifulSoup(wiki_response.text, 'html.parser')\n",
    "    #     # Snippet\n",
    "        snippet = wiki_soup.find_all('p')[0].text\n",
    "\n",
    "#         print(snippet)  \n",
    "    #     institution facts\n",
    "        inst_facts = pd.read_html(inst_url)\n",
    "        inst_facts = inst_facts[0]\n",
    "        inst_facts = inst_facts.set_index(0)\n",
    "\n",
    "\n",
    "        motto = inst_facts.loc['Motto'][1]\n",
    "        type_of_uni = inst_facts.loc['Type'][1]\n",
    "        year_est = inst_facts.loc['Established'][1]\n",
    "        students = inst_facts.loc['Students'][1][:-3]\n",
    "        nickname = inst_facts.loc['Nickname'][1]\n",
    "        campus = inst_facts.loc['Campus'][1]\n",
    "\n",
    "        \n",
    "    except:\n",
    "        pass\n",
    "    \n",
    "        snippet_list.append(snippet)\n",
    "        motto_list.append(motto)\n",
    "        type_list.append(type_of_uni)\n",
    "        year_est_list.append(year_est)\n",
    "        students_list.append(students)\n",
    "        nickname_list.append(nickname)\n",
    "        campus_list.append(campus)"
   ]
  },
  {
   "cell_type": "code",
   "execution_count": null,
   "metadata": {},
   "outputs": [],
   "source": [
    "snippet_list"
   ]
  },
  {
   "cell_type": "code",
   "execution_count": 13,
   "metadata": {},
   "outputs": [],
   "source": [
    "type_list = []"
   ]
  },
  {
   "cell_type": "code",
   "execution_count": 20,
   "metadata": {},
   "outputs": [
    {
     "ename": "HTTPError",
     "evalue": "HTTP Error 404: Not Found",
     "output_type": "error",
     "traceback": [
      "\u001b[0;31m---------------------------------------------------------------------------\u001b[0m",
      "\u001b[0;31mHTTPError\u001b[0m                                 Traceback (most recent call last)",
      "\u001b[0;32m<ipython-input-20-536807851ca9>\u001b[0m in \u001b[0;36m<module>\u001b[0;34m\u001b[0m\n\u001b[1;32m     11\u001b[0m \u001b[0;34m\u001b[0m\u001b[0m\n\u001b[1;32m     12\u001b[0m     \u001b[0;32mtry\u001b[0m\u001b[0;34m:\u001b[0m\u001b[0;34m\u001b[0m\u001b[0;34m\u001b[0m\u001b[0m\n\u001b[0;32m---> 13\u001b[0;31m         \u001b[0minst_facts\u001b[0m \u001b[0;34m=\u001b[0m \u001b[0mpd\u001b[0m\u001b[0;34m.\u001b[0m\u001b[0mread_html\u001b[0m\u001b[0;34m(\u001b[0m\u001b[0minst_url\u001b[0m\u001b[0;34m)\u001b[0m\u001b[0;34m\u001b[0m\u001b[0;34m\u001b[0m\u001b[0m\n\u001b[0m\u001b[1;32m     14\u001b[0m         \u001b[0minst_facts\u001b[0m \u001b[0;34m=\u001b[0m \u001b[0minst_facts\u001b[0m\u001b[0;34m[\u001b[0m\u001b[0;36m0\u001b[0m\u001b[0;34m]\u001b[0m\u001b[0;34m\u001b[0m\u001b[0;34m\u001b[0m\u001b[0m\n\u001b[1;32m     15\u001b[0m         \u001b[0minst_facts\u001b[0m \u001b[0;34m=\u001b[0m \u001b[0minst_facts\u001b[0m\u001b[0;34m.\u001b[0m\u001b[0mset_index\u001b[0m\u001b[0;34m(\u001b[0m\u001b[0;36m0\u001b[0m\u001b[0;34m)\u001b[0m\u001b[0;34m\u001b[0m\u001b[0;34m\u001b[0m\u001b[0m\n",
      "\u001b[0;32m/anaconda3/lib/python3.7/site-packages/pandas/io/html.py\u001b[0m in \u001b[0;36mread_html\u001b[0;34m(io, match, flavor, header, index_col, skiprows, attrs, parse_dates, tupleize_cols, thousands, encoding, decimal, converters, na_values, keep_default_na, displayed_only)\u001b[0m\n\u001b[1;32m   1092\u001b[0m                   \u001b[0mdecimal\u001b[0m\u001b[0;34m=\u001b[0m\u001b[0mdecimal\u001b[0m\u001b[0;34m,\u001b[0m \u001b[0mconverters\u001b[0m\u001b[0;34m=\u001b[0m\u001b[0mconverters\u001b[0m\u001b[0;34m,\u001b[0m \u001b[0mna_values\u001b[0m\u001b[0;34m=\u001b[0m\u001b[0mna_values\u001b[0m\u001b[0;34m,\u001b[0m\u001b[0;34m\u001b[0m\u001b[0;34m\u001b[0m\u001b[0m\n\u001b[1;32m   1093\u001b[0m                   \u001b[0mkeep_default_na\u001b[0m\u001b[0;34m=\u001b[0m\u001b[0mkeep_default_na\u001b[0m\u001b[0;34m,\u001b[0m\u001b[0;34m\u001b[0m\u001b[0;34m\u001b[0m\u001b[0m\n\u001b[0;32m-> 1094\u001b[0;31m                   displayed_only=displayed_only)\n\u001b[0m",
      "\u001b[0;32m/anaconda3/lib/python3.7/site-packages/pandas/io/html.py\u001b[0m in \u001b[0;36m_parse\u001b[0;34m(flavor, io, match, attrs, encoding, displayed_only, **kwargs)\u001b[0m\n\u001b[1;32m    914\u001b[0m             \u001b[0;32mbreak\u001b[0m\u001b[0;34m\u001b[0m\u001b[0;34m\u001b[0m\u001b[0m\n\u001b[1;32m    915\u001b[0m     \u001b[0;32melse\u001b[0m\u001b[0;34m:\u001b[0m\u001b[0;34m\u001b[0m\u001b[0;34m\u001b[0m\u001b[0m\n\u001b[0;32m--> 916\u001b[0;31m         \u001b[0mraise_with_traceback\u001b[0m\u001b[0;34m(\u001b[0m\u001b[0mretained\u001b[0m\u001b[0;34m)\u001b[0m\u001b[0;34m\u001b[0m\u001b[0;34m\u001b[0m\u001b[0m\n\u001b[0m\u001b[1;32m    917\u001b[0m \u001b[0;34m\u001b[0m\u001b[0m\n\u001b[1;32m    918\u001b[0m     \u001b[0mret\u001b[0m \u001b[0;34m=\u001b[0m \u001b[0;34m[\u001b[0m\u001b[0;34m]\u001b[0m\u001b[0;34m\u001b[0m\u001b[0;34m\u001b[0m\u001b[0m\n",
      "\u001b[0;32m/anaconda3/lib/python3.7/site-packages/pandas/compat/__init__.py\u001b[0m in \u001b[0;36mraise_with_traceback\u001b[0;34m(exc, traceback)\u001b[0m\n\u001b[1;32m    418\u001b[0m         \u001b[0;32mif\u001b[0m \u001b[0mtraceback\u001b[0m \u001b[0;34m==\u001b[0m \u001b[0mEllipsis\u001b[0m\u001b[0;34m:\u001b[0m\u001b[0;34m\u001b[0m\u001b[0;34m\u001b[0m\u001b[0m\n\u001b[1;32m    419\u001b[0m             \u001b[0m_\u001b[0m\u001b[0;34m,\u001b[0m \u001b[0m_\u001b[0m\u001b[0;34m,\u001b[0m \u001b[0mtraceback\u001b[0m \u001b[0;34m=\u001b[0m \u001b[0msys\u001b[0m\u001b[0;34m.\u001b[0m\u001b[0mexc_info\u001b[0m\u001b[0;34m(\u001b[0m\u001b[0;34m)\u001b[0m\u001b[0;34m\u001b[0m\u001b[0;34m\u001b[0m\u001b[0m\n\u001b[0;32m--> 420\u001b[0;31m         \u001b[0;32mraise\u001b[0m \u001b[0mexc\u001b[0m\u001b[0;34m.\u001b[0m\u001b[0mwith_traceback\u001b[0m\u001b[0;34m(\u001b[0m\u001b[0mtraceback\u001b[0m\u001b[0;34m)\u001b[0m\u001b[0;34m\u001b[0m\u001b[0;34m\u001b[0m\u001b[0m\n\u001b[0m\u001b[1;32m    421\u001b[0m \u001b[0;32melse\u001b[0m\u001b[0;34m:\u001b[0m\u001b[0;34m\u001b[0m\u001b[0;34m\u001b[0m\u001b[0m\n\u001b[1;32m    422\u001b[0m     \u001b[0;31m# this version of raise is a syntax error in Python 3\u001b[0m\u001b[0;34m\u001b[0m\u001b[0;34m\u001b[0m\u001b[0;34m\u001b[0m\u001b[0m\n",
      "\u001b[0;31mHTTPError\u001b[0m: HTTP Error 404: Not Found"
     ]
    }
   ],
   "source": [
    "for index, row in uni_data.iterrows():\n",
    "    unitid = row['UNITID']\n",
    "    inst = row['INSTNM']\n",
    "    inst = inst.replace(\" \", \"_\")\n",
    "    inst_url = wiki_url + inst\n",
    "    \n",
    "    wiki_response = requests.get(inst_url)\n",
    "    wiki_soup = BeautifulSoup(wiki_response.text, 'html.parser')\n",
    "    \n",
    "\n",
    "    \n",
    "    try:\n",
    "        inst_facts = pd.read_html(inst_url)\n",
    "        inst_facts = inst_facts[0]\n",
    "        inst_facts = inst_facts.set_index(0)\n",
    "            #     # Snippet\n",
    "        type_of_uni = inst_facts.loc['Type'][1]\n",
    "        \n",
    "    except:\n",
    "        \n",
    "        type_of_uni = \"NA\"\n",
    "        \n",
    "    type_list.append(type_of_uni)"
   ]
  },
  {
   "cell_type": "code",
   "execution_count": 40,
   "metadata": {},
   "outputs": [
    {
     "name": "stdout",
     "output_type": "stream",
     "text": [
      "0\n",
      "6,001 (Fall 2018)[1]\n",
      "1\n",
      "21923\n",
      "2\n",
      "N/A\n",
      "3\n",
      "9736\n",
      "4\n",
      "5475\n",
      "5\n",
      "38,563[4]\n",
      "6\n",
      "3500\n",
      "7\n",
      "5,211 (Fall 2018)[3]\n",
      "8\n",
      "30,440 (Fall 2018)[5]\n",
      "9\n",
      "N/A\n",
      "10\n",
      "445 (2017–18)[1]\n",
      "11\n",
      "3574\n",
      "12\n",
      "1107\n",
      "13\n",
      "N/A\n",
      "14\n",
      "N/A\n",
      "15\n",
      "N/A\n",
      "16\n",
      "5157\n",
      "17\n",
      "1500\n",
      "18\n",
      "Approx. 1,600\n",
      "19\n",
      "2600\n",
      "20\n",
      "7650\n",
      "21\n",
      "N/A\n",
      "22\n",
      "5,619 (Fall 2018)[2]\n",
      "23\n",
      "600\n",
      "24\n",
      "14834\n",
      "25\n",
      "1439\n",
      "26\n",
      "N/A\n",
      "27\n",
      "615 (Fall 2018)\n",
      "28\n",
      "2500\n",
      "29\n",
      "N/A\n",
      "30\n",
      "3,140 (2017)[2]\n",
      "31\n",
      "N/A\n",
      "32\n",
      "17,962 (14,308 on the Anchorage campus and 3,000+ enrolled in the community campuses [1]\n",
      "33\n",
      "51 [1]\n",
      "34\n",
      "8336\n",
      "35\n",
      "N/A\n"
     ]
    },
    {
     "ename": "HTTPError",
     "evalue": "HTTP Error 404: Not Found",
     "output_type": "error",
     "traceback": [
      "\u001b[0;31m---------------------------------------------------------------------------\u001b[0m",
      "\u001b[0;31mHTTPError\u001b[0m                                 Traceback (most recent call last)",
      "\u001b[0;32m<ipython-input-40-d01cb950fb67>\u001b[0m in \u001b[0;36m<module>\u001b[0;34m\u001b[0m\n\u001b[1;32m      9\u001b[0m \u001b[0;34m\u001b[0m\u001b[0m\n\u001b[1;32m     10\u001b[0m \u001b[0;34m\u001b[0m\u001b[0m\n\u001b[0;32m---> 11\u001b[0;31m     \u001b[0minst_facts\u001b[0m \u001b[0;34m=\u001b[0m \u001b[0mpd\u001b[0m\u001b[0;34m.\u001b[0m\u001b[0mread_html\u001b[0m\u001b[0;34m(\u001b[0m\u001b[0minst_url\u001b[0m\u001b[0;34m)\u001b[0m\u001b[0;34m\u001b[0m\u001b[0;34m\u001b[0m\u001b[0m\n\u001b[0m\u001b[1;32m     12\u001b[0m     \u001b[0minst_facts\u001b[0m \u001b[0;34m=\u001b[0m \u001b[0minst_facts\u001b[0m\u001b[0;34m[\u001b[0m\u001b[0;36m0\u001b[0m\u001b[0;34m]\u001b[0m\u001b[0;34m\u001b[0m\u001b[0;34m\u001b[0m\u001b[0m\n\u001b[1;32m     13\u001b[0m     \u001b[0minst_facts\u001b[0m \u001b[0;34m=\u001b[0m \u001b[0minst_facts\u001b[0m\u001b[0;34m.\u001b[0m\u001b[0mset_index\u001b[0m\u001b[0;34m(\u001b[0m\u001b[0;36m0\u001b[0m\u001b[0;34m)\u001b[0m\u001b[0;34m\u001b[0m\u001b[0;34m\u001b[0m\u001b[0m\n",
      "\u001b[0;32m/anaconda3/lib/python3.7/site-packages/pandas/io/html.py\u001b[0m in \u001b[0;36mread_html\u001b[0;34m(io, match, flavor, header, index_col, skiprows, attrs, parse_dates, tupleize_cols, thousands, encoding, decimal, converters, na_values, keep_default_na, displayed_only)\u001b[0m\n\u001b[1;32m   1092\u001b[0m                   \u001b[0mdecimal\u001b[0m\u001b[0;34m=\u001b[0m\u001b[0mdecimal\u001b[0m\u001b[0;34m,\u001b[0m \u001b[0mconverters\u001b[0m\u001b[0;34m=\u001b[0m\u001b[0mconverters\u001b[0m\u001b[0;34m,\u001b[0m \u001b[0mna_values\u001b[0m\u001b[0;34m=\u001b[0m\u001b[0mna_values\u001b[0m\u001b[0;34m,\u001b[0m\u001b[0;34m\u001b[0m\u001b[0;34m\u001b[0m\u001b[0m\n\u001b[1;32m   1093\u001b[0m                   \u001b[0mkeep_default_na\u001b[0m\u001b[0;34m=\u001b[0m\u001b[0mkeep_default_na\u001b[0m\u001b[0;34m,\u001b[0m\u001b[0;34m\u001b[0m\u001b[0;34m\u001b[0m\u001b[0m\n\u001b[0;32m-> 1094\u001b[0;31m                   displayed_only=displayed_only)\n\u001b[0m",
      "\u001b[0;32m/anaconda3/lib/python3.7/site-packages/pandas/io/html.py\u001b[0m in \u001b[0;36m_parse\u001b[0;34m(flavor, io, match, attrs, encoding, displayed_only, **kwargs)\u001b[0m\n\u001b[1;32m    914\u001b[0m             \u001b[0;32mbreak\u001b[0m\u001b[0;34m\u001b[0m\u001b[0;34m\u001b[0m\u001b[0m\n\u001b[1;32m    915\u001b[0m     \u001b[0;32melse\u001b[0m\u001b[0;34m:\u001b[0m\u001b[0;34m\u001b[0m\u001b[0;34m\u001b[0m\u001b[0m\n\u001b[0;32m--> 916\u001b[0;31m         \u001b[0mraise_with_traceback\u001b[0m\u001b[0;34m(\u001b[0m\u001b[0mretained\u001b[0m\u001b[0;34m)\u001b[0m\u001b[0;34m\u001b[0m\u001b[0;34m\u001b[0m\u001b[0m\n\u001b[0m\u001b[1;32m    917\u001b[0m \u001b[0;34m\u001b[0m\u001b[0m\n\u001b[1;32m    918\u001b[0m     \u001b[0mret\u001b[0m \u001b[0;34m=\u001b[0m \u001b[0;34m[\u001b[0m\u001b[0;34m]\u001b[0m\u001b[0;34m\u001b[0m\u001b[0;34m\u001b[0m\u001b[0m\n",
      "\u001b[0;32m/anaconda3/lib/python3.7/site-packages/pandas/compat/__init__.py\u001b[0m in \u001b[0;36mraise_with_traceback\u001b[0;34m(exc, traceback)\u001b[0m\n\u001b[1;32m    418\u001b[0m         \u001b[0;32mif\u001b[0m \u001b[0mtraceback\u001b[0m \u001b[0;34m==\u001b[0m \u001b[0mEllipsis\u001b[0m\u001b[0;34m:\u001b[0m\u001b[0;34m\u001b[0m\u001b[0;34m\u001b[0m\u001b[0m\n\u001b[1;32m    419\u001b[0m             \u001b[0m_\u001b[0m\u001b[0;34m,\u001b[0m \u001b[0m_\u001b[0m\u001b[0;34m,\u001b[0m \u001b[0mtraceback\u001b[0m \u001b[0;34m=\u001b[0m \u001b[0msys\u001b[0m\u001b[0;34m.\u001b[0m\u001b[0mexc_info\u001b[0m\u001b[0;34m(\u001b[0m\u001b[0;34m)\u001b[0m\u001b[0;34m\u001b[0m\u001b[0;34m\u001b[0m\u001b[0m\n\u001b[0;32m--> 420\u001b[0;31m         \u001b[0;32mraise\u001b[0m \u001b[0mexc\u001b[0m\u001b[0;34m.\u001b[0m\u001b[0mwith_traceback\u001b[0m\u001b[0;34m(\u001b[0m\u001b[0mtraceback\u001b[0m\u001b[0;34m)\u001b[0m\u001b[0;34m\u001b[0m\u001b[0;34m\u001b[0m\u001b[0m\n\u001b[0m\u001b[1;32m    421\u001b[0m \u001b[0;32melse\u001b[0m\u001b[0;34m:\u001b[0m\u001b[0;34m\u001b[0m\u001b[0;34m\u001b[0m\u001b[0m\n\u001b[1;32m    422\u001b[0m     \u001b[0;31m# this version of raise is a syntax error in Python 3\u001b[0m\u001b[0;34m\u001b[0m\u001b[0;34m\u001b[0m\u001b[0;34m\u001b[0m\u001b[0m\n",
      "\u001b[0;31mHTTPError\u001b[0m: HTTP Error 404: Not Found"
     ]
    }
   ],
   "source": [
    "for index, row in uni_data.iterrows():\n",
    "    unitid = row['UNITID']\n",
    "    inst = row['INSTNM']\n",
    "    inst = inst.replace(\" \", \"_\")\n",
    "    inst_url = wiki_url + inst\n",
    "    \n",
    "    wiki_response = requests.get(inst_url)\n",
    "    wiki_soup = BeautifulSoup(wiki_response.text, 'html.parser')\n",
    "    \n",
    "\n",
    "    inst_facts = pd.read_html(inst_url)\n",
    "    inst_facts = inst_facts[0]\n",
    "    inst_facts = inst_facts.set_index(0)\n",
    "\n",
    "    try:\n",
    "        stu = inst_facts.loc['Students'][1]\n",
    "    except:\n",
    "        stu = 'N/A'\n",
    "    print(index)\n",
    "    print(stu)\n",
    "    "
   ]
  },
  {
   "cell_type": "code",
   "execution_count": 49,
   "metadata": {},
   "outputs": [],
   "source": [
    "stu_list = []"
   ]
  },
  {
   "cell_type": "code",
   "execution_count": 50,
   "metadata": {},
   "outputs": [
    {
     "name": "stdout",
     "output_type": "stream",
     "text": [
      "0\n",
      "6,001 (Fall 2018)[1]\n",
      "1\n",
      "21923\n",
      "2\n",
      "N/A\n",
      "3\n",
      "9736\n",
      "4\n",
      "5475\n",
      "5\n",
      "38,563[4]\n",
      "6\n",
      "3500\n",
      "7\n",
      "5,211 (Fall 2018)[3]\n",
      "8\n",
      "30,440 (Fall 2018)[5]\n",
      "9\n",
      "N/A\n",
      "10\n",
      "445 (2017–18)[1]\n",
      "11\n",
      "3574\n",
      "12\n",
      "1107\n",
      "13\n",
      "N/A\n",
      "14\n",
      "N/A\n",
      "15\n",
      "N/A\n",
      "16\n",
      "5157\n",
      "17\n",
      "1500\n",
      "18\n",
      "Approx. 1,600\n",
      "19\n",
      "2600\n",
      "20\n",
      "7650\n",
      "21\n",
      "N/A\n",
      "22\n",
      "5,619 (Fall 2018)[2]\n",
      "23\n",
      "600\n",
      "24\n",
      "14834\n",
      "25\n",
      "1439\n",
      "26\n",
      "N/A\n",
      "27\n",
      "615 (Fall 2018)\n",
      "28\n",
      "2500\n",
      "29\n",
      "N/A\n",
      "30\n",
      "3,140 (2017)[2]\n",
      "31\n",
      "N/A\n",
      "32\n",
      "17,962 (14,308 on the Anchorage campus and 3,000+ enrolled in the community campuses [1]\n",
      "33\n",
      "51 [1]\n",
      "34\n",
      "8336\n",
      "35\n",
      "N/A\n"
     ]
    },
    {
     "ename": "HTTPError",
     "evalue": "HTTP Error 404: Not Found",
     "output_type": "error",
     "traceback": [
      "\u001b[0;31m---------------------------------------------------------------------------\u001b[0m",
      "\u001b[0;31mHTTPError\u001b[0m                                 Traceback (most recent call last)",
      "\u001b[0;32m<ipython-input-50-ceb7254c785e>\u001b[0m in \u001b[0;36m<module>\u001b[0;34m\u001b[0m\n\u001b[1;32m      9\u001b[0m \u001b[0;34m\u001b[0m\u001b[0m\n\u001b[1;32m     10\u001b[0m \u001b[0;34m\u001b[0m\u001b[0m\n\u001b[0;32m---> 11\u001b[0;31m     \u001b[0minst_facts\u001b[0m \u001b[0;34m=\u001b[0m \u001b[0mpd\u001b[0m\u001b[0;34m.\u001b[0m\u001b[0mread_html\u001b[0m\u001b[0;34m(\u001b[0m\u001b[0minst_url\u001b[0m\u001b[0;34m)\u001b[0m\u001b[0;34m\u001b[0m\u001b[0;34m\u001b[0m\u001b[0m\n\u001b[0m\u001b[1;32m     12\u001b[0m     \u001b[0minst_facts\u001b[0m \u001b[0;34m=\u001b[0m \u001b[0minst_facts\u001b[0m\u001b[0;34m[\u001b[0m\u001b[0;36m0\u001b[0m\u001b[0;34m]\u001b[0m\u001b[0;34m\u001b[0m\u001b[0;34m\u001b[0m\u001b[0m\n\u001b[1;32m     13\u001b[0m     \u001b[0minst_facts\u001b[0m \u001b[0;34m=\u001b[0m \u001b[0minst_facts\u001b[0m\u001b[0;34m.\u001b[0m\u001b[0mset_index\u001b[0m\u001b[0;34m(\u001b[0m\u001b[0;36m0\u001b[0m\u001b[0;34m)\u001b[0m\u001b[0;34m\u001b[0m\u001b[0;34m\u001b[0m\u001b[0m\n",
      "\u001b[0;32m/anaconda3/lib/python3.7/site-packages/pandas/io/html.py\u001b[0m in \u001b[0;36mread_html\u001b[0;34m(io, match, flavor, header, index_col, skiprows, attrs, parse_dates, tupleize_cols, thousands, encoding, decimal, converters, na_values, keep_default_na, displayed_only)\u001b[0m\n\u001b[1;32m   1092\u001b[0m                   \u001b[0mdecimal\u001b[0m\u001b[0;34m=\u001b[0m\u001b[0mdecimal\u001b[0m\u001b[0;34m,\u001b[0m \u001b[0mconverters\u001b[0m\u001b[0;34m=\u001b[0m\u001b[0mconverters\u001b[0m\u001b[0;34m,\u001b[0m \u001b[0mna_values\u001b[0m\u001b[0;34m=\u001b[0m\u001b[0mna_values\u001b[0m\u001b[0;34m,\u001b[0m\u001b[0;34m\u001b[0m\u001b[0;34m\u001b[0m\u001b[0m\n\u001b[1;32m   1093\u001b[0m                   \u001b[0mkeep_default_na\u001b[0m\u001b[0;34m=\u001b[0m\u001b[0mkeep_default_na\u001b[0m\u001b[0;34m,\u001b[0m\u001b[0;34m\u001b[0m\u001b[0;34m\u001b[0m\u001b[0m\n\u001b[0;32m-> 1094\u001b[0;31m                   displayed_only=displayed_only)\n\u001b[0m",
      "\u001b[0;32m/anaconda3/lib/python3.7/site-packages/pandas/io/html.py\u001b[0m in \u001b[0;36m_parse\u001b[0;34m(flavor, io, match, attrs, encoding, displayed_only, **kwargs)\u001b[0m\n\u001b[1;32m    914\u001b[0m             \u001b[0;32mbreak\u001b[0m\u001b[0;34m\u001b[0m\u001b[0;34m\u001b[0m\u001b[0m\n\u001b[1;32m    915\u001b[0m     \u001b[0;32melse\u001b[0m\u001b[0;34m:\u001b[0m\u001b[0;34m\u001b[0m\u001b[0;34m\u001b[0m\u001b[0m\n\u001b[0;32m--> 916\u001b[0;31m         \u001b[0mraise_with_traceback\u001b[0m\u001b[0;34m(\u001b[0m\u001b[0mretained\u001b[0m\u001b[0;34m)\u001b[0m\u001b[0;34m\u001b[0m\u001b[0;34m\u001b[0m\u001b[0m\n\u001b[0m\u001b[1;32m    917\u001b[0m \u001b[0;34m\u001b[0m\u001b[0m\n\u001b[1;32m    918\u001b[0m     \u001b[0mret\u001b[0m \u001b[0;34m=\u001b[0m \u001b[0;34m[\u001b[0m\u001b[0;34m]\u001b[0m\u001b[0;34m\u001b[0m\u001b[0;34m\u001b[0m\u001b[0m\n",
      "\u001b[0;32m/anaconda3/lib/python3.7/site-packages/pandas/compat/__init__.py\u001b[0m in \u001b[0;36mraise_with_traceback\u001b[0;34m(exc, traceback)\u001b[0m\n\u001b[1;32m    418\u001b[0m         \u001b[0;32mif\u001b[0m \u001b[0mtraceback\u001b[0m \u001b[0;34m==\u001b[0m \u001b[0mEllipsis\u001b[0m\u001b[0;34m:\u001b[0m\u001b[0;34m\u001b[0m\u001b[0;34m\u001b[0m\u001b[0m\n\u001b[1;32m    419\u001b[0m             \u001b[0m_\u001b[0m\u001b[0;34m,\u001b[0m \u001b[0m_\u001b[0m\u001b[0;34m,\u001b[0m \u001b[0mtraceback\u001b[0m \u001b[0;34m=\u001b[0m \u001b[0msys\u001b[0m\u001b[0;34m.\u001b[0m\u001b[0mexc_info\u001b[0m\u001b[0;34m(\u001b[0m\u001b[0;34m)\u001b[0m\u001b[0;34m\u001b[0m\u001b[0;34m\u001b[0m\u001b[0m\n\u001b[0;32m--> 420\u001b[0;31m         \u001b[0;32mraise\u001b[0m \u001b[0mexc\u001b[0m\u001b[0;34m.\u001b[0m\u001b[0mwith_traceback\u001b[0m\u001b[0;34m(\u001b[0m\u001b[0mtraceback\u001b[0m\u001b[0;34m)\u001b[0m\u001b[0;34m\u001b[0m\u001b[0;34m\u001b[0m\u001b[0m\n\u001b[0m\u001b[1;32m    421\u001b[0m \u001b[0;32melse\u001b[0m\u001b[0;34m:\u001b[0m\u001b[0;34m\u001b[0m\u001b[0;34m\u001b[0m\u001b[0m\n\u001b[1;32m    422\u001b[0m     \u001b[0;31m# this version of raise is a syntax error in Python 3\u001b[0m\u001b[0;34m\u001b[0m\u001b[0;34m\u001b[0m\u001b[0;34m\u001b[0m\u001b[0m\n",
      "\u001b[0;31mHTTPError\u001b[0m: HTTP Error 404: Not Found"
     ]
    }
   ],
   "source": [
    "for index, row in uni_data.iterrows():\n",
    "    unitid = row['UNITID']\n",
    "    inst = row['INSTNM']\n",
    "    inst = inst.replace(\" \", \"_\")\n",
    "    inst_url = wiki_url + inst\n",
    "    \n",
    "    wiki_response = requests.get(inst_url)\n",
    "    wiki_soup = BeautifulSoup(wiki_response.text, 'html.parser')\n",
    "    \n",
    "\n",
    "    inst_facts = pd.read_html(inst_url)\n",
    "    inst_facts = inst_facts[0]\n",
    "    inst_facts = inst_facts.set_index(0)\n",
    "\n",
    "    try:\n",
    "        stu = inst_facts.loc['Students'][1]\n",
    "    except:\n",
    "        stu = 'N/A'\n",
    "    print(index)\n",
    "    print(stu)\n",
    "    \n",
    "    stu_list.append(stu)"
   ]
  },
  {
   "cell_type": "code",
   "execution_count": null,
   "metadata": {},
   "outputs": [],
   "source": []
  }
 ],
 "metadata": {
  "kernelspec": {
   "display_name": "Python 3",
   "language": "python",
   "name": "python3"
  },
  "language_info": {
   "codemirror_mode": {
    "name": "ipython",
    "version": 3
   },
   "file_extension": ".py",
   "mimetype": "text/x-python",
   "name": "python",
   "nbconvert_exporter": "python",
   "pygments_lexer": "ipython3",
   "version": "3.7.3"
  },
  "toc": {
   "base_numbering": 1,
   "nav_menu": {},
   "number_sections": false,
   "sideBar": false,
   "skip_h1_title": false,
   "title_cell": "Table of Contents",
   "title_sidebar": "Contents",
   "toc_cell": false,
   "toc_position": {},
   "toc_section_display": false,
   "toc_window_display": false
  }
 },
 "nbformat": 4,
 "nbformat_minor": 2
}
