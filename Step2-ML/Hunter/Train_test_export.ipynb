{
 "cells": [
  {
   "cell_type": "code",
   "execution_count": 1,
   "metadata": {},
   "outputs": [],
   "source": [
    "import pickle\n",
    "import joblib\n",
    "import os\n",
    "import pandas as pd\n",
    "import numpy as np\n",
    "from sklearn.linear_model import LinearRegression\n",
    "from sklearn.model_selection import train_test_split"
   ]
  },
  {
   "cell_type": "code",
   "execution_count": 2,
   "metadata": {},
   "outputs": [],
   "source": [
    "filename = 'model1.sav'"
   ]
  },
  {
   "cell_type": "code",
   "execution_count": 3,
   "metadata": {},
   "outputs": [
    {
     "data": {
      "text/plain": [
       "(994, 14)"
      ]
     },
     "execution_count": 3,
     "metadata": {},
     "output_type": "execute_result"
    }
   ],
   "source": [
    "df = pd.read_csv(os.path.join('data.csv'))\n",
    "\n",
    "df.dropna()\n",
    "\n",
    "df.head()\n",
    "\n",
    "df.shape"
   ]
  },
  {
   "cell_type": "code",
   "execution_count": 4,
   "metadata": {},
   "outputs": [],
   "source": [
    "X = df[['ADM_RATE_ALL', 'AVGFACSAL','RET_FT4', 'CDR3',\n",
    "       'AGE_ENTRY', 'UGDS_MEN']]\n",
    "y = np.log(df['MN_EARN_WNE_P10'])"
   ]
  },
  {
   "cell_type": "code",
   "execution_count": 5,
   "metadata": {},
   "outputs": [
    {
     "data": {
      "text/html": [
       "<div>\n",
       "<style scoped>\n",
       "    .dataframe tbody tr th:only-of-type {\n",
       "        vertical-align: middle;\n",
       "    }\n",
       "\n",
       "    .dataframe tbody tr th {\n",
       "        vertical-align: top;\n",
       "    }\n",
       "\n",
       "    .dataframe thead th {\n",
       "        text-align: right;\n",
       "    }\n",
       "</style>\n",
       "<table border=\"1\" class=\"dataframe\">\n",
       "  <thead>\n",
       "    <tr style=\"text-align: right;\">\n",
       "      <th></th>\n",
       "      <th>ADM_RATE_ALL</th>\n",
       "      <th>AVGFACSAL</th>\n",
       "      <th>RET_FT4</th>\n",
       "      <th>CDR3</th>\n",
       "      <th>AGE_ENTRY</th>\n",
       "      <th>UGDS_MEN</th>\n",
       "    </tr>\n",
       "  </thead>\n",
       "  <tbody>\n",
       "    <tr>\n",
       "      <th>0</th>\n",
       "      <td>0.5256</td>\n",
       "      <td>6892.0</td>\n",
       "      <td>0.6595</td>\n",
       "      <td>0.172</td>\n",
       "      <td>20.525773</td>\n",
       "      <td>0.4831</td>\n",
       "    </tr>\n",
       "    <tr>\n",
       "      <th>1</th>\n",
       "      <td>0.8569</td>\n",
       "      <td>9957.0</td>\n",
       "      <td>0.8288</td>\n",
       "      <td>0.062</td>\n",
       "      <td>23.492140</td>\n",
       "      <td>0.4169</td>\n",
       "    </tr>\n",
       "    <tr>\n",
       "      <th>2</th>\n",
       "      <td>0.8203</td>\n",
       "      <td>9302.0</td>\n",
       "      <td>0.7696</td>\n",
       "      <td>0.061</td>\n",
       "      <td>23.718723</td>\n",
       "      <td>0.5733</td>\n",
       "    </tr>\n",
       "    <tr>\n",
       "      <th>3</th>\n",
       "      <td>0.5326</td>\n",
       "      <td>6609.0</td>\n",
       "      <td>0.5725</td>\n",
       "      <td>0.156</td>\n",
       "      <td>20.528185</td>\n",
       "      <td>0.3877</td>\n",
       "    </tr>\n",
       "    <tr>\n",
       "      <th>4</th>\n",
       "      <td>0.5105</td>\n",
       "      <td>9667.0</td>\n",
       "      <td>0.8670</td>\n",
       "      <td>0.063</td>\n",
       "      <td>21.356529</td>\n",
       "      <td>0.4580</td>\n",
       "    </tr>\n",
       "  </tbody>\n",
       "</table>\n",
       "</div>"
      ],
      "text/plain": [
       "   ADM_RATE_ALL  AVGFACSAL  RET_FT4   CDR3  AGE_ENTRY  UGDS_MEN\n",
       "0        0.5256     6892.0   0.6595  0.172  20.525773    0.4831\n",
       "1        0.8569     9957.0   0.8288  0.062  23.492140    0.4169\n",
       "2        0.8203     9302.0   0.7696  0.061  23.718723    0.5733\n",
       "3        0.5326     6609.0   0.5725  0.156  20.528185    0.3877\n",
       "4        0.5105     9667.0   0.8670  0.063  21.356529    0.4580"
      ]
     },
     "execution_count": 5,
     "metadata": {},
     "output_type": "execute_result"
    }
   ],
   "source": [
    "X.head()"
   ]
  },
  {
   "cell_type": "code",
   "execution_count": 6,
   "metadata": {},
   "outputs": [
    {
     "data": {
      "text/plain": [
       "0    10.477288\n",
       "1    10.787255\n",
       "2    10.858999\n",
       "3    10.328755\n",
       "4    10.851277\n",
       "Name: MN_EARN_WNE_P10, dtype: float64"
      ]
     },
     "execution_count": 6,
     "metadata": {},
     "output_type": "execute_result"
    }
   ],
   "source": [
    "y.head()"
   ]
  },
  {
   "cell_type": "code",
   "execution_count": 7,
   "metadata": {},
   "outputs": [],
   "source": [
    "X_train, X_test, y_train, y_test = train_test_split(X, y, random_state=42)"
   ]
  },
  {
   "cell_type": "code",
   "execution_count": 8,
   "metadata": {},
   "outputs": [
    {
     "name": "stdout",
     "output_type": "stream",
     "text": [
      "(249, 6)\n",
      "(745, 6)\n",
      "(249,)\n",
      "(745,)\n"
     ]
    }
   ],
   "source": [
    "print(X_test.shape)\n",
    "print(X_train.shape)\n",
    "print(y_test.shape)\n",
    "print(y_train.shape)"
   ]
  },
  {
   "cell_type": "code",
   "execution_count": 9,
   "metadata": {},
   "outputs": [],
   "source": [
    "ADM_RATE_ALL = 0.5256\n",
    "AVGFACSAL = 6892.0\n",
    "RET_FT4 = 0.6595\n",
    "CDR3 = 0.172\n",
    "AGE_ENTRY = 20.52\n",
    "UGDS_MEN = 0.4831"
   ]
  },
  {
   "cell_type": "code",
   "execution_count": 10,
   "metadata": {},
   "outputs": [],
   "source": [
    "loaded_model = joblib.load(filename)"
   ]
  },
  {
   "cell_type": "code",
   "execution_count": 11,
   "metadata": {},
   "outputs": [],
   "source": [
    "result = loaded_model.score(X_test, y_test )"
   ]
  },
  {
   "cell_type": "code",
   "execution_count": 12,
   "metadata": {},
   "outputs": [
    {
     "name": "stdout",
     "output_type": "stream",
     "text": [
      "0.6978564029602756\n"
     ]
    }
   ],
   "source": [
    "print(result)"
   ]
  },
  {
   "cell_type": "code",
   "execution_count": 13,
   "metadata": {},
   "outputs": [],
   "source": [
    "### This shows that the saved exported model recieves exactly the same score as the one in the multiple regression jupyter notebook. "
   ]
  },
  {
   "cell_type": "code",
   "execution_count": null,
   "metadata": {},
   "outputs": [],
   "source": []
  }
 ],
 "metadata": {
  "kernelspec": {
   "display_name": "Python 3",
   "language": "python",
   "name": "python3"
  },
  "language_info": {
   "codemirror_mode": {
    "name": "ipython",
    "version": 3
   },
   "file_extension": ".py",
   "mimetype": "text/x-python",
   "name": "python",
   "nbconvert_exporter": "python",
   "pygments_lexer": "ipython3",
   "version": "3.6.8"
  },
  "toc": {
   "base_numbering": 1,
   "nav_menu": {},
   "number_sections": false,
   "sideBar": false,
   "skip_h1_title": false,
   "title_cell": "Table of Contents",
   "title_sidebar": "Contents",
   "toc_cell": false,
   "toc_position": {},
   "toc_section_display": false,
   "toc_window_display": false
  }
 },
 "nbformat": 4,
 "nbformat_minor": 2
}
